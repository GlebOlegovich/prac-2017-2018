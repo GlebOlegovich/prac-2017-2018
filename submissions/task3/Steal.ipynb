{
 "cells": [
  {
   "cell_type": "code",
   "execution_count": 1,
   "metadata": {
    "collapsed": true
   },
   "outputs": [],
   "source": [
    "import numpy as np\n",
    "import pandas as pd\n",
    "import glob as gb\n",
    "import os"
   ]
  },
  {
   "cell_type": "code",
   "execution_count": 2,
   "metadata": {
    "collapsed": true
   },
   "outputs": [],
   "source": [
    "sell_path = {}\n",
    "supply_path = {}\n",
    "inventory_path = {}\n",
    "\n",
    "supply = {}\n",
    "sell = {}\n",
    "inventory = {}\n",
    "\n",
    "for i in {'b', 'm', 's'}:\n",
    "    sell_path[i] = gb.glob(os.getcwd() + '/input/*' + i + '*-sell.csv')\n",
    "    supply_path[i] = gb.glob(os.getcwd() + '/input/*' + i + '*-supply.csv')\n",
    "    inventory_path[i] = gb.glob(os.getcwd() + '/input/*' + i + '*-inventory.csv')\n",
    "    for j in range(0, len(sell_path[i])):\n",
    "        sell[i + str(j+1)] = pd.read_csv(sell_path[i][j], index_col = 'date', \n",
    "                                         parse_dates = True)\n",
    "        supply[i + str(j+1)] = pd.read_csv(supply_path[i][j], index_col = 'date', \n",
    "                                           parse_dates = True)\n",
    "        inventory[i + str(j+1)] = pd.read_csv(inventory_path[i][j], index_col = 'date', \n",
    "                                              parse_dates = True)\n",
    "    "
   ]
  },
  {
   "cell_type": "code",
   "execution_count": 3,
   "metadata": {
    "collapsed": true
   },
   "outputs": [],
   "source": [
    "def sell_upg(sell):\n",
    "    \n",
    "    upg_tmp = pd.DataFrame(columns=['sku_num'], index = sell.index)\n",
    "    upg_tmp['sku_num'] = sell['sku_num'].apply(lambda x: 0 if x.find('ap') == 6 else 1)\n",
    "    daily = pd.crosstab(upg_tmp.index, upg_tmp['sku_num'], margins = True)\n",
    "    daily = daily.drop(['All'])\n",
    "    daily_new = pd.DataFrame(columns=[ 'apple', 'pen'], \n",
    "                             index = upg_tmp.index.drop_duplicates())\n",
    "    daily_new['apple'] = daily[0].values\n",
    "    daily_new['pen'] = daily[1].values\n",
    "        \n",
    "    return daily_new"
   ]
  },
  {
   "cell_type": "code",
   "execution_count": 11,
   "metadata": {},
   "outputs": [],
   "source": [
    "for i in sell.keys():\n",
    "    sell[i] = sell_upg(sell[i])"
   ]
  },
  {
   "cell_type": "code",
   "execution_count": 87,
   "metadata": {},
   "outputs": [
    {
     "name": "stdout",
     "output_type": "stream",
     "text": [
      "            apple   pen\n",
      "date                   \n",
      "2006-01-31   10.0  11.0\n",
      "2006-02-28    6.0   6.0\n",
      "2006-03-31    7.0   6.0\n",
      "2006-04-30    6.0  14.0\n",
      "2006-05-31    8.0   1.0\n",
      "2006-06-30    7.0   9.0\n",
      "2006-07-31   10.0  12.0\n",
      "2006-08-31    3.0   5.0\n",
      "2006-09-30    6.0   4.0\n",
      "2006-10-31    1.0   9.0\n"
     ]
    }
   ],
   "source": [
    "def stolen(sell, supply, inventory):\n",
    "    \n",
    "    st = pd.DataFrame(columns=['apple', 'pen'], index = inventory.index)\n",
    "    sell = sell.resample('M').sum()\n",
    "    supply = supply.resample('M').sum()\n",
    "    inv = pd.DataFrame(columns=['apple', 'pen'], index = inventory.index)\n",
    "    inv['apple'] = inventory['apple'] - inventory['apple'] .shift(1)\n",
    "    inv.loc[inv.index[0], 'apple'] = inventory.loc[inventory.index[0], 'apple']\n",
    "    inv['pen'] = inventory['pen'] - inventory['pen'] .shift(1)\n",
    "    inv.loc[inv.index[0], 'pen'] = inventory.loc[inventory.index[0], 'pen']\n",
    "    st['apple'] = inv['apple'] + sell['apple'] - supply['apple']\n",
    "    st['pen'] = inv['pen'] + sell['pen'] - supply['pen'] \n",
    "    return st.abs()"
   ]
  },
  {
   "cell_type": "code",
   "execution_count": 90,
   "metadata": {},
   "outputs": [
    {
     "name": "stdout",
     "output_type": "stream",
     "text": [
      "            apple   pen\n",
      "date                   \n",
      "2006-01-31   10.0  11.0\n",
      "2006-02-28    6.0   6.0\n",
      "2006-03-31    7.0   6.0\n",
      "2006-04-30    6.0  14.0\n",
      "2006-05-31    8.0   1.0\n",
      "2006-06-30    7.0   9.0\n",
      "2006-07-31   10.0  12.0\n",
      "2006-08-31    3.0   5.0\n",
      "2006-09-30    6.0   4.0\n",
      "2006-10-31    1.0   9.0\n"
     ]
    }
   ],
   "source": [
    "steal = {}\n",
    "\n",
    "for i in sell.keys():\n",
    "    steal[i] = stolen(sell[i], supply[i], inventory[i])\n",
    "    \n",
    "print(stolen(sell['b1'], supply['b1'], inventory['b1']).head(n=10))"
   ]
  }
 ],
 "metadata": {
  "kernelspec": {
   "display_name": "Python 3",
   "language": "python",
   "name": "python3"
  },
  "language_info": {
   "codemirror_mode": {
    "name": "ipython",
    "version": 3
   },
   "file_extension": ".py",
   "mimetype": "text/x-python",
   "name": "python",
   "nbconvert_exporter": "python",
   "pygments_lexer": "ipython3",
   "version": "3.6.2"
  }
 },
 "nbformat": 4,
 "nbformat_minor": 2
}
