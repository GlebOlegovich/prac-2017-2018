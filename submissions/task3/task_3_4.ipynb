{
 "cells": [
  {
   "cell_type": "code",
   "execution_count": 3,
   "metadata": {},
   "outputs": [],
   "source": [
    "import numpy as np\n",
    "import pandas as pd\n",
    "import glob as gb \n",
    "import os"
   ]
  },
  {
   "cell_type": "markdown",
   "metadata": {},
   "source": [
    "### Состояние склада на каждый день"
   ]
  },
  {
   "cell_type": "markdown",
   "metadata": {},
   "source": [
    "Создание имени файла"
   ]
  },
  {
   "cell_type": "code",
   "execution_count": 1,
   "metadata": {},
   "outputs": [],
   "source": [
    "def create_filenames(letter, number):\n",
    "    \n",
    "    c = chr(ord('0') + number)\n",
    "    str_i = 'MS-' + letter + c + '-inventory.csv'\n",
    "    str_sl = 'MS-' + letter + number + '-sell.csv'\n",
    "    str_spl = 'MS-' + letter + number + '-supply.csv'\n",
    "    str_d = 'MS-' + letter + number + '-daily.csv'\n",
    "    return str_i, str_sl, str_spl, str_d"
   ]
  },
  {
   "cell_type": "markdown",
   "metadata": {},
   "source": [
    "Количество магазинов в штате"
   ]
  },
  {
   "cell_type": "code",
   "execution_count": 2,
   "metadata": {},
   "outputs": [],
   "source": [
    "def num_shop(state):\n",
    "    \n",
    "    if state == 'b' or state == 'm':\n",
    "        max = 2\n",
    "    elif state == 's':\n",
    "        max = 5\n",
    "    return max"
   ]
  },
  {
   "cell_type": "code",
   "execution_count": null,
   "metadata": {},
   "outputs": [],
   "source": [
    "def daily_stor(state):\n",
    "    \n",
    "    max = num_shop(state)\n",
    "    files = {}\n",
    "    path = {}\n",
    "    answer = {}\n",
    "    shop = 0\n",
    "    while shop < max:\n",
    "        c = chr(ord('0') + shop + 1)\n",
    "        path[shop] = gb.glob(os.getcwd() + '/input/*'+ state + c + '*.csv')\n",
    "        for j in range(0, len(path[shop])):\n",
    "            files[shop][j]= pd.read_csv(path[shop][j])\n",
    "        shop = shop + 1\n",
    "    INV = 0\n",
    "    SELL = 1\n",
    "    SPL = 2\n",
    "    DAILY = 3\n",
    "    \n",
    "    shop = 0\n",
    "    while shop < max:\n",
    "        files[shop][SELL]['sku_num'] = files[shop][SELL]['sku_num'].apply(lambda x: 0 if x.find('ap') == 6 else 1)\n",
    "        daily = pd.crosstab(files[shop][SELL]['date'], files[shop][SELL]['sku_num'], margins = True)\n",
    "        daily_new = pd.DataFrame(columns=['date', 'apple_sell', 'pen_sell'])\n",
    "        daily_new['date'] = daily.index\n",
    "        daily_new['apple_sell'] = daily[0].values\n",
    "        daily_new['pen_sell'] = daily[1].values\n",
    "        \n",
    "        files[shop][SPL]['date'] = pd.to_datetime(files[shop][SPL]['date'], format='%Y-%m-%d')\n",
    "        files[shop][SPL].index = files[shop][SPL]['date']\n",
    "        \n",
    "        l = files[shop][SPL].index.size\n",
    "        files[shop][SPL]['apple'] = files[shop][SPL]['apple'].rolling(str(l) + 'D').sum()\n",
    "        files[shop][SPL]['pen'] = files[shop][SPL]['pen'].rolling(str(l) + 'D').sum()\n",
    "        \n",
    "       # files[shop][SELL]['date'] = pd.to_datetime(files[shop][SELL]['date'], format='%Y-%m-%d')\n",
    "       # files[shop][SELL].index = files[shop][SELL]['date']\n",
    "        \n",
    "        more_inf = pd.merge(daily_new, files[shop][SPL], how='outer', on='date')\n",
    "        \n",
    "        files[shop][SELL]['date'] = pd.to_datetime(files[shop][SELL]['date'], format='%Y-%m-%d')\n",
    "        more_inf.index = files[shop][SELL]['date'].drop_duplicates()\n",
    "        more_inf = more_inf.drop(['date'], axis=1)\n",
    "        \n",
    "        l = more_inf.index.size\n",
    "        more_inf['apple_sum'] = more_inf['apple_sell'].rolling(str(l) + 'D').sum()\n",
    "        more_inf['pen_sum'] = more_inf['pen_sell'].rolling(str(l) + 'D').sum()\n",
    "        \n",
    "        more_inf['apple'] = more_inf['apple'] - more_inf['apple_sum']\n",
    "        more_inf['pen'] = more_inf['pen'] - more_inf['pen_sum']\n",
    "        \n",
    "        more_inf = more_inf.drop(['pen_sell', 'apple_sell', 'apple_sum', 'pen_sum'], axis=1)\n",
    "\n",
    "        name = create_filenames(state, shop + 1)[DAILY]\n",
    "        more_inf.to_csv('answer/' + name, index=False)\n",
    "        answer[shop] = more_inf\n",
    "        shop = shop + 1\n",
    "        \n",
    "    return answer\n",
    "    "
   ]
  },
  {
   "cell_type": "code",
   "execution_count": 5,
   "metadata": {},
   "outputs": [
    {
     "name": "stdout",
     "output_type": "stream",
     "text": [
      "['/home/varvara/6_sem_prac/task_3/input/MS-s5-sell.csv', '/home/varvara/6_sem_prac/task_3/input/MS-m2-sell.csv', '/home/varvara/6_sem_prac/task_3/input/MS-b2-sell.csv', '/home/varvara/6_sem_prac/task_3/input/MS-s4-sell.csv', '/home/varvara/6_sem_prac/task_3/input/MS-s2-sell.csv', '/home/varvara/6_sem_prac/task_3/input/MS-s1-sell.csv', '/home/varvara/6_sem_prac/task_3/input/MS-s3-sell.csv', '/home/varvara/6_sem_prac/task_3/input/MS-b1-sell.csv', '/home/varvara/6_sem_prac/task_3/input/MS-m1-sell.csv']\n"
     ]
    }
   ],
   "source": [
    "def main():\n",
    "    \n",
    "    daily_b = daily_stor('b')\n",
    "    print(daily_b)\n",
    "    daily_m = daily_stor('m')\n",
    "    print(daily_m)\n",
    "    daily_s = daily_stor('s')\n",
    "    print(daily_s)\n",
    "    \n",
    "main() \n",
    "    "
   ]
  },
  {
   "cell_type": "code",
   "execution_count": null,
   "metadata": {},
   "outputs": [],
   "source": []
  }
 ],
 "metadata": {
  "kernelspec": {
   "display_name": "Python 3",
   "language": "python",
   "name": "python3"
  },
  "language_info": {
   "codemirror_mode": {
    "name": "ipython",
    "version": 3
   },
   "file_extension": ".py",
   "mimetype": "text/x-python",
   "name": "python",
   "nbconvert_exporter": "python",
   "pygments_lexer": "ipython3",
   "version": "3.5.2+"
  }
 },
 "nbformat": 4,
 "nbformat_minor": 2
}
