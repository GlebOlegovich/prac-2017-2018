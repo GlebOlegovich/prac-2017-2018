{
 "cells": [
  {
   "cell_type": "code",
   "execution_count": 3,
   "metadata": {},
   "outputs": [],
   "source": [
    "import numpy as np\n",
    "import pandas as pd\n",
    "import glob as gb \n",
    "import os"
   ]
  },
  {
   "cell_type": "markdown",
   "metadata": {},
   "source": [
    "### Состояние склада на каждый день"
   ]
  },
  {
   "cell_type": "markdown",
   "metadata": {},
   "source": [
    "Создание имени файла"
   ]
  },
  {
   "cell_type": "code",
   "execution_count": 1,
   "metadata": {},
   "outputs": [],
   "source": [
    "def create_filenames(letter, number):\n",
    "    \n",
    "    c = chr(ord('0') + number + 1)\n",
    "    str_i = 'MS-' + letter + c + '-inventory.csv'\n",
    "    str_sl = 'MS-' + letter + number + '-sell.csv'\n",
    "    str_spl = 'MS-' + letter + number + '-supply.csv'\n",
    "    return str_i, str_sl, str_spl"
   ]
  },
  {
   "cell_type": "markdown",
   "metadata": {},
   "source": [
    "Количество магазинов в штате"
   ]
  },
  {
   "cell_type": "code",
   "execution_count": 2,
   "metadata": {},
   "outputs": [],
   "source": [
    "def num_shop(state):\n",
    "    \n",
    "    if state == 'b' or state == 'm':\n",
    "        max = 2\n",
    "    elif state == 's':\n",
    "        max = 5\n",
    "    return max"
   ]
  },
  {
   "cell_type": "markdown",
   "metadata": {},
   "source": [
    "Для магазина b1"
   ]
  },
  {
   "cell_type": "code",
   "execution_count": 21,
   "metadata": {},
   "outputs": [
    {
     "data": {
      "text/html": [
       "<div>\n",
       "<style scoped>\n",
       "    .dataframe tbody tr th:only-of-type {\n",
       "        vertical-align: middle;\n",
       "    }\n",
       "\n",
       "    .dataframe tbody tr th {\n",
       "        vertical-align: top;\n",
       "    }\n",
       "\n",
       "    .dataframe thead th {\n",
       "        text-align: right;\n",
       "    }\n",
       "</style>\n",
       "<table border=\"1\" class=\"dataframe\">\n",
       "  <thead>\n",
       "    <tr style=\"text-align: right;\">\n",
       "      <th></th>\n",
       "      <th>date</th>\n",
       "      <th>apple</th>\n",
       "      <th>pen</th>\n",
       "    </tr>\n",
       "  </thead>\n",
       "  <tbody>\n",
       "    <tr>\n",
       "      <th>0</th>\n",
       "      <td>2006-01-01</td>\n",
       "      <td>33271</td>\n",
       "      <td>2574</td>\n",
       "    </tr>\n",
       "    <tr>\n",
       "      <th>1</th>\n",
       "      <td>2006-01-02</td>\n",
       "      <td>31409</td>\n",
       "      <td>2431</td>\n",
       "    </tr>\n",
       "    <tr>\n",
       "      <th>2</th>\n",
       "      <td>2006-01-03</td>\n",
       "      <td>29529</td>\n",
       "      <td>2260</td>\n",
       "    </tr>\n",
       "    <tr>\n",
       "      <th>3</th>\n",
       "      <td>2006-01-04</td>\n",
       "      <td>27732</td>\n",
       "      <td>2107</td>\n",
       "    </tr>\n",
       "    <tr>\n",
       "      <th>4</th>\n",
       "      <td>2006-01-05</td>\n",
       "      <td>25790</td>\n",
       "      <td>1974</td>\n",
       "    </tr>\n",
       "    <tr>\n",
       "      <th>5</th>\n",
       "      <td>2006-01-06</td>\n",
       "      <td>23892</td>\n",
       "      <td>1825</td>\n",
       "    </tr>\n",
       "    <tr>\n",
       "      <th>6</th>\n",
       "      <td>2006-01-07</td>\n",
       "      <td>21997</td>\n",
       "      <td>1687</td>\n",
       "    </tr>\n",
       "    <tr>\n",
       "      <th>7</th>\n",
       "      <td>2006-01-08</td>\n",
       "      <td>20161</td>\n",
       "      <td>1567</td>\n",
       "    </tr>\n",
       "    <tr>\n",
       "      <th>8</th>\n",
       "      <td>2006-01-09</td>\n",
       "      <td>18293</td>\n",
       "      <td>1442</td>\n",
       "    </tr>\n",
       "    <tr>\n",
       "      <th>9</th>\n",
       "      <td>2006-01-10</td>\n",
       "      <td>16414</td>\n",
       "      <td>1286</td>\n",
       "    </tr>\n",
       "    <tr>\n",
       "      <th>10</th>\n",
       "      <td>2006-01-11</td>\n",
       "      <td>14618</td>\n",
       "      <td>1135</td>\n",
       "    </tr>\n",
       "    <tr>\n",
       "      <th>11</th>\n",
       "      <td>2006-01-12</td>\n",
       "      <td>12703</td>\n",
       "      <td>995</td>\n",
       "    </tr>\n",
       "    <tr>\n",
       "      <th>12</th>\n",
       "      <td>2006-01-13</td>\n",
       "      <td>10783</td>\n",
       "      <td>859</td>\n",
       "    </tr>\n",
       "    <tr>\n",
       "      <th>13</th>\n",
       "      <td>2006-01-14</td>\n",
       "      <td>8911</td>\n",
       "      <td>698</td>\n",
       "    </tr>\n",
       "    <tr>\n",
       "      <th>14</th>\n",
       "      <td>2006-01-15</td>\n",
       "      <td>42091</td>\n",
       "      <td>3179</td>\n",
       "    </tr>\n",
       "  </tbody>\n",
       "</table>\n",
       "</div>"
      ],
      "text/plain": [
       "          date  apple   pen\n",
       "0   2006-01-01  33271  2574\n",
       "1   2006-01-02  31409  2431\n",
       "2   2006-01-03  29529  2260\n",
       "3   2006-01-04  27732  2107\n",
       "4   2006-01-05  25790  1974\n",
       "5   2006-01-06  23892  1825\n",
       "6   2006-01-07  21997  1687\n",
       "7   2006-01-08  20161  1567\n",
       "8   2006-01-09  18293  1442\n",
       "9   2006-01-10  16414  1286\n",
       "10  2006-01-11  14618  1135\n",
       "11  2006-01-12  12703   995\n",
       "12  2006-01-13  10783   859\n",
       "13  2006-01-14   8911   698\n",
       "14  2006-01-15  42091  3179"
      ]
     },
     "execution_count": 21,
     "metadata": {},
     "output_type": "execute_result"
    }
   ],
   "source": [
    "stor_daily_b1 = pd.DataFrame(columns=['date', 'apple', 'pen'])\n",
    "\n",
    "length_sell = len(sell_upg_b1) - 1\n",
    "length_spl = len(spl_b1) - 1\n",
    "\n",
    "curr_apple = 0\n",
    "curr_pen = 0\n",
    "\n",
    "for i in range(length_sell):\n",
    "    \n",
    "    curr_date = sell_upg_b1['date'][i]\n",
    "    for j in range(length_spl):\n",
    "        if spl_b1['date'][j] == curr_date:\n",
    "            curr_apple = curr_apple + spl_b1['apple'][j]\n",
    "            curr_pen = curr_pen + spl_b1['pen'][j]\n",
    "            \n",
    "    curr_apple = curr_apple - sell_upg_b1['apple'][i]\n",
    "    curr_pen  = curr_pen - sell_upg_b1['pen'][i]\n",
    "   \n",
    "    stor_daily_b1.at[i, 'apple'] = curr_apple\n",
    "    stor_daily_b1.at[i, 'pen'] = curr_pen\n",
    "    stor_daily_b1.at[i, 'date'] = curr_date\n",
    "    \n",
    "#stor_daily_b1.head(n=15)"
   ]
  },
  {
   "cell_type": "code",
   "execution_count": null,
   "metadata": {},
   "outputs": [],
   "source": [
    "def daily_stor(state):\n",
    "    \n",
    "    max = num_shop(state)\n",
    "    files = {}\n",
    "    path = {}\n",
    "    answer = {}\n",
    "    shop = 0\n",
    "    while shop < max:\n",
    "        c = chr(ord('0') + shop + 1)\n",
    "        path[shop] = gb.glob(os.getcwd() + '/input/*'+ state + c + '*.csv')\n",
    "        for j in range(0, len(path[shop])):\n",
    "            files[shop][j]= pd.read_csv(path[shop][j])\n",
    "        i = i + 1\n",
    "    INV = 0\n",
    "    SELL = 1\n",
    "    SPL = 2\n",
    "    \n",
    "    shop = 0\n",
    "    while shop < max:\n",
    "        files[shop][SELL]['sku_num'] = files[shop][SELL]['sku_num'].apply(lambda x: 0 if x.find('ap') == 6 else 1)\n",
    "        daily = pd.crosstab(files[shop][SELL]['date'], files[shop][SELL]['sku_num'], margins = True)\n",
    "        daily_new = pd.DataFrame(columns=['date', 'apple_sell', 'pen_sell'])\n",
    "        daily_new['date'] = daily.index\n",
    "        daily_new['apple_sell'] = daily[0].values\n",
    "        daily_new['pen_sell'] = daily[1].values\n",
    "        more_inf = pd.merge(daily_new, files[shop][SPL], how='outer', on='date')\n",
    "        more_inf['apple'].fillna(method='ffill')\n",
    "        more_inf['pen'].fillna(method='ffill')\n",
    "        more_inf['apple'] = more_inf['apple'] - more_inf['apple_sell']\n",
    "        more_inf['pen'] = more_inf['pen'] - more_inf['pen_sell']\n",
    "        more_inf.drop(columns=['pen_sell', 'apple_sell'])\n",
    "        name = create_name(state, shop + 1)\n",
    "        more_inf.to_csv('answer/' + name, index=False)\n",
    "        answer[shop] = more_inf\n",
    "        shop = shop + 1\n",
    "        \n",
    "    return answer\n",
    "    "
   ]
  },
  {
   "cell_type": "code",
   "execution_count": 5,
   "metadata": {},
   "outputs": [
    {
     "name": "stdout",
     "output_type": "stream",
     "text": [
      "['/home/varvara/6_sem_prac/task_3/input/MS-s5-sell.csv', '/home/varvara/6_sem_prac/task_3/input/MS-m2-sell.csv', '/home/varvara/6_sem_prac/task_3/input/MS-b2-sell.csv', '/home/varvara/6_sem_prac/task_3/input/MS-s4-sell.csv', '/home/varvara/6_sem_prac/task_3/input/MS-s2-sell.csv', '/home/varvara/6_sem_prac/task_3/input/MS-s1-sell.csv', '/home/varvara/6_sem_prac/task_3/input/MS-s3-sell.csv', '/home/varvara/6_sem_prac/task_3/input/MS-b1-sell.csv', '/home/varvara/6_sem_prac/task_3/input/MS-m1-sell.csv']\n"
     ]
    }
   ],
   "source": [
    "def main():\n",
    "    \n",
    "    daily_stor('b')\n",
    "    daily_stor('m')\n",
    "    daily_stor('s')\n",
    "    \n",
    "main() \n",
    "    "
   ]
  },
  {
   "cell_type": "code",
   "execution_count": null,
   "metadata": {},
   "outputs": [],
   "source": []
  }
 ],
 "metadata": {
  "kernelspec": {
   "display_name": "Python 3",
   "language": "python",
   "name": "python3"
  },
  "language_info": {
   "codemirror_mode": {
    "name": "ipython",
    "version": 3
   },
   "file_extension": ".py",
   "mimetype": "text/x-python",
   "name": "python",
   "nbconvert_exporter": "python",
   "pygments_lexer": "ipython3",
   "version": "3.5.2+"
  }
 },
 "nbformat": 4,
 "nbformat_minor": 2
}
