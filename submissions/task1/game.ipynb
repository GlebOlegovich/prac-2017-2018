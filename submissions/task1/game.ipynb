{
 "cells": [
  {
   "cell_type": "code",
   "execution_count": 25,
   "metadata": {},
   "outputs": [],
   "source": [
    "import numpy as np\n",
    "from scipy.optimize import linprog\n",
    "import matplotlib.pyplot\n",
    "def nash_equilibrium(A):\n",
    "    tmp = np.amin(A)\n",
    "    if tmp <= 0:\n",
    "        A = A - tmp + 1\n",
    "    rows = A.shape[0]\n",
    "    clm = A.shape[1]\n",
    "    \n",
    "    # приводим задачу из вида (c, x)->max к виду (-c, x)=(c, -x)->min т.к. linprog минимизирует целевую функцию\n",
    "    c = -np.ones(clm)\n",
    "    \n",
    "    # неравенство ограничений делим на цену игры => задаём вектор ограничений, состоящим из единиц\n",
    "    # при этом вероятности выбора каждой стратегии делятся на цену игры\n",
    "    # A*x<b\n",
    "    b = np.ones(rows)\n",
    "\n",
    "    player2 = linprog(c, A_ub = A, b_ub = b)\n",
    "    game_price = -1 / player2.fun #не забываем домножить на (-1) т.к. нашли стратегию (-x)\n",
    "    strategy2 = player2.x * game_price\n",
    "    \n",
    "    #приводим ограничения из вида xA>1 к виду -(А)^T * x < -1 \n",
    "    A = -np.transpose(A)\n",
    "    b = -np.ones(clm)\n",
    "    c = np.ones(rows)\n",
    "    player1 = linprog(c, A_ub = A, b_ub = b)\n",
    "    strategy1 = player1.x * game_price\n",
    "    \n",
    "    game_price = game_price + tmp - 1\n",
    "    \n",
    "    print(\"Цена игры: \", game_price)\n",
    "    print(\"Стратегия первого игрока: \", strategy1)\n",
    "    print(\"Стратегия второго игрока: \", strategy2)\n",
    "    \n",
    "    return game_price, strategy1, strategy2"
   ]
  },
  {
   "cell_type": "code",
   "execution_count": null,
   "metadata": {
    "collapsed": true
   },
   "outputs": [],
   "source": []
  }
 ],
 "metadata": {
  "kernelspec": {
   "display_name": "Python 3",
   "language": "python",
   "name": "python3"
  },
  "language_info": {
   "codemirror_mode": {
    "name": "ipython",
    "version": 3
   },
   "file_extension": ".py",
   "mimetype": "text/x-python",
   "name": "python",
   "nbconvert_exporter": "python",
   "pygments_lexer": "ipython3",
   "version": "3.6.3"
  }
 },
 "nbformat": 4,
 "nbformat_minor": 2
}
