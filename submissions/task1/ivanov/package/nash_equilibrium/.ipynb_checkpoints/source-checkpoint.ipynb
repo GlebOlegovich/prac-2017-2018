{
 "cells": [
  {
   "cell_type": "code",
   "execution_count": 14,
   "metadata": {
    "collapsed": true
   },
   "outputs": [],
   "source": [
    "import numpy as np\n",
    "from scipy.optimize import linprog\n",
    "from fractions import Fraction\n",
    "\n",
    "\n",
    "def nash_equilibrium(a):\n",
    "    n = a.shape[0] #Кол-во строк.\n",
    "    m = a.shape[1] #Кол-во столбцов.\n",
    "    \n",
    "    minValue = np.min(a)\n",
    "    if (minValue > 0): \n",
    "        minValue = 0\n",
    "    \n",
    "    c = np.ones(n)\n",
    "    a_ub = -np.transpose(a - minValue)\n",
    "    b_ub = -np.ones(m)\n",
    "    solve = linprog(c, a_ub, b_ub)\n",
    "    v = solve.fun\n",
    "    p = (solve.x / v) + minValue\n",
    "    \n",
    "    c = -np.ones(m)\n",
    "    a_ub = a - minValue\n",
    "    b_ub = np.ones(n)\n",
    "    solve = linprog(c, a_ub, b_ub)\n",
    "    q = (solve.x / v) + minValue\n",
    "    \n",
    "    return v, p, q\n",
    "\n",
    "\n",
    "def number_to_fraction(number):\n",
    "    return Fraction(number).limit_denominator()\n",
    "    \n",
    "    \n",
    "def array_to_fraction(x):\n",
    "    xf = []\n",
    "    for i in range(x.size):\n",
    "        xf.append(number_to_fraction(x[i]))\n",
    "    return xf\n",
    "\n",
    "\n",
    "def print_solve(v, p, q):\n",
    "    pf = array_to_fraction(p)\n",
    "    qf = array_to_fraction(q)\n",
    "    \n",
    "    str_p = \"| p |\"\n",
    "    str_q = \"| q |\"\n",
    "    \n",
    "    for i in range(max(len(pf), len(qf))):\n",
    "        if (i < len(pf)):\n",
    "            str_p = str_p + \"| \" + str(pf[i])\n",
    "        if (i < len(qf)):\n",
    "            str_q = str_q + \"| \" + str(qf[i])\n",
    "        l = max(len(str_p), len(str_q))\n",
    "        \n",
    "        str_p = str_p.ljust(l)\n",
    "        str_q = str_q.ljust(l)\n",
    "        \n",
    "        if (i < len(pf)):\n",
    "            str_p = str_p + \" |\" \n",
    "        if (i < len(qf)):\n",
    "            str_q = str_q + \" |\"\n",
    "      \n",
    "    print(\"Value = \" + str(number_to_fraction(v)))\n",
    "    print(str_p)\n",
    "    print(str_q)\n"
   ]
  },
  {
   "cell_type": "code",
   "execution_count": 15,
   "metadata": {},
   "outputs": [
    {
     "name": "stdout",
     "output_type": "stream",
     "text": [
      "     fun: 0.20529801324503311\n",
      " message: 'Optimization terminated successfully.'\n",
      "     nit: 9\n",
      "   slack: array([ 0.33112583,  0.06622517,  0.        ,  0.        ,  0.        ,  0.        ])\n",
      "  status: 0\n",
      " success: True\n",
      "       x: array([ 0.        ,  0.02649007,  0.01986755,  0.08940397,  0.06953642,  0.        ])\n",
      "     fun: -0.20529801324503313\n",
      " message: 'Optimization terminated successfully.'\n",
      "     nit: 6\n",
      "   slack: array([ 0.02538631,  0.        ,  0.        ,  0.        ,  0.        ,\n",
      "        0.49172185])\n",
      "  status: 0\n",
      " success: True\n",
      "       x: array([ 0.        ,  0.        ,  0.14183223,  0.02980132,  0.0303532 ,\n",
      "        0.00331126])\n",
      "Value = 31/151\n",
      "| p || 0 || 4/31 || 3/31    || 27/62 || 21/62  || 0    |\n",
      "| q || 0 || 0    || 257/372 || 9/62  || 55/372 || 1/62 |\n"
     ]
    }
   ],
   "source": [
    "A = np.array([[4, 0, 6, 2, 2, 1],\n",
    "               [3, 8, 4, 10, 4, 4],\n",
    "               [1, 2, 6, 5, 0, 0],\n",
    "               [6, 6, 4, 4, 10, 3],\n",
    "               [10, 4, 6, 4, 0, 9],\n",
    "               [10, 7, 0, 7, 9, 8]])\n",
    "\n",
    "(v, p, q) = nash_equilibrium(A)\n",
    "print_solve(v, p, q)\n"
   ]
  },
  {
   "cell_type": "code",
   "execution_count": 18,
   "metadata": {},
   "outputs": [
    {
     "name": "stdout",
     "output_type": "stream",
     "text": [
      "     fun: 1.0\n",
      " message: 'Optimization failed. Unable to find a feasible starting point.'\n",
      "     nit: 5\n",
      "  status: 2\n",
      " success: False\n",
      "       x: nan\n",
      "     fun: -0.25\n",
      " message: 'Optimization failed. The problem appears to be unbounded.'\n",
      "     nit: 1\n",
      "   slack: array([ 0.])\n",
      "  status: 3\n",
      " success: False\n",
      "       x: array([ 0.25,  0.  ,  0.  ,  0.  ,  0.  ,  0.  ])\n"
     ]
    },
    {
     "data": {
      "text/plain": [
       "(1.0, nan, array([ 0.25,  0.  ,  0.  ,  0.  ,  0.  ,  0.  ]))"
      ]
     },
     "execution_count": 18,
     "metadata": {},
     "output_type": "execute_result"
    }
   ],
   "source": [
    "A0 = np.array([[4, 0, 6, 2, 2, 1]])\n",
    "\n",
    "nash_equilibrium(A0)"
   ]
  },
  {
   "cell_type": "code",
   "execution_count": null,
   "metadata": {
    "collapsed": true
   },
   "outputs": [],
   "source": []
  },
  {
   "cell_type": "code",
   "execution_count": null,
   "metadata": {
    "collapsed": true
   },
   "outputs": [],
   "source": []
  }
 ],
 "metadata": {
  "kernelspec": {
   "display_name": "Python 3",
   "language": "python",
   "name": "python3"
  },
  "language_info": {
   "codemirror_mode": {
    "name": "ipython",
    "version": 3
   },
   "file_extension": ".py",
   "mimetype": "text/x-python",
   "name": "python",
   "nbconvert_exporter": "python",
   "pygments_lexer": "ipython3",
   "version": "3.6.2"
  }
 },
 "nbformat": 4,
 "nbformat_minor": 2
}
