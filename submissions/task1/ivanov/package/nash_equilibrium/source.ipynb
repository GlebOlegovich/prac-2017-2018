{
 "cells": [
  {
   "cell_type": "code",
   "execution_count": 54,
   "metadata": {
    "collapsed": true
   },
   "outputs": [],
   "source": [
    "import numpy as np\n",
    "from scipy.optimize import linprog\n",
    "from fractions import Fraction\n",
    "\n",
    "\n",
    "def nash_equilibrium(a):\n",
    "    n = a.shape[0] #Кол-во строк.\n",
    "    m = a.shape[1] #Кол-во столбцов.\n",
    "    \n",
    "    subValue = np.min(a) \n",
    "    if (subValue > 0): \n",
    "        subValue = 0\n",
    "    \n",
    "    #Поиск оптимальной стратегии первого игрока.\n",
    "    c = np.ones(n)                      #Целевая ф-ия.  \n",
    "    a_ub = -np.transpose(a - subValue)  #Матрица ограничений.\n",
    "    b_ub = -np.ones(m)                  #Столбец свободных членов.\n",
    "    solve = linprog(c, a_ub, b_ub)\n",
    "    v = 1 / solve.fun #Цена игры.\n",
    "    p = solve.x / v   #Оптимальная стратегия первого игрока.\n",
    "    \n",
    "    #Поиск оптимальной стратегии второго игрока.\n",
    "    c = -np.ones(m)       #Целевая ф-ия.\n",
    "    a_ub = a - subValue   #Матрица ограничений.\n",
    "    b_ub = np.ones(n)     #Столбец свободных членов. \n",
    "    solve = linprog(c, a_ub, b_ub)\n",
    "    q = solve.x / v   #Оптимальная стратегия второго игрока.\n",
    "    \n",
    "    return v + subValue, p, q\n",
    "\n",
    "\n",
    "'''\n",
    "Функция преобразования вещественного числа в рациональное.\n",
    "'''\n",
    "def number_to_fraction(number):\n",
    "    return Fraction(number).limit_denominator()\n",
    "    \n",
    "    \n",
    "'''\n",
    "Функция, которая преобразует массив вещественных чисел\n",
    "в список рациональных чисел.\n",
    "'''\n",
    "def array_to_fraction(x):\n",
    "    xf = []\n",
    "    for i in range(x.size):\n",
    "        xf.append(number_to_fraction(x[i]))\n",
    "    return xf\n",
    "\n",
    "\n",
    "'''\n",
    "Функция, которая выводить цену игры и оптимальные\n",
    "стратегии игроков в красивом виде.\n",
    "'''\n",
    "def print_solve(v, p, q):\n",
    "    pf = array_to_fraction(p)\n",
    "    qf = array_to_fraction(q)\n",
    "    \n",
    "    str_p = \"| p |\"\n",
    "    str_q = \"| q |\"\n",
    "    \n",
    "    for i in range(max(len(pf), len(qf))):\n",
    "        if (i < len(pf)):\n",
    "            str_p = str_p + \"| \" + str(pf[i])\n",
    "        if (i < len(qf)):\n",
    "            str_q = str_q + \"| \" + str(qf[i])\n",
    "        l = max(len(str_p), len(str_q))\n",
    "        \n",
    "        str_p = str_p.ljust(l)\n",
    "        str_q = str_q.ljust(l)\n",
    "        \n",
    "        if (i < len(pf)):\n",
    "            str_p = str_p + \" |\" \n",
    "        if (i < len(qf)):\n",
    "            str_q = str_q + \" |\"\n",
    "      \n",
    "    print(\"Value = \" + str(number_to_fraction(v)))\n",
    "    print(str_p)\n",
    "    print(str_q)\n"
   ]
  },
  {
   "cell_type": "code",
   "execution_count": 55,
   "metadata": {},
   "outputs": [
    {
     "name": "stdout",
     "output_type": "stream",
     "text": [
      "Value = 151/31\n",
      "| p || 0 || 124/22801 || 93/22801    || 837/45602 || 651/45602   || 0        |\n",
      "| q || 0 || 0         || 7967/273612 || 279/45602 || 1705/273612 || 31/45602 |\n"
     ]
    }
   ],
   "source": [
    "A = np.array([[4, 0, 6, 2, 2, 1],\n",
    "               [3, 8, 4, 10, 4, 4],\n",
    "               [1, 2, 6, 5, 0, 0],\n",
    "               [6, 6, 4, 4, 10, 3],\n",
    "               [10, 4, 6, 4, 0, 9],\n",
    "               [10, 7, 0, 7, 9, 8]])\n",
    "\n",
    "(v, p, q) = nash_equilibrium(A)\n",
    "print_solve(v, p, q)\n"
   ]
  },
  {
   "cell_type": "code",
   "execution_count": null,
   "metadata": {
    "collapsed": true
   },
   "outputs": [],
   "source": []
  }
 ],
 "metadata": {
  "kernelspec": {
   "display_name": "Python 3",
   "language": "python",
   "name": "python3"
  },
  "language_info": {
   "codemirror_mode": {
    "name": "ipython",
    "version": 3
   },
   "file_extension": ".py",
   "mimetype": "text/x-python",
   "name": "python",
   "nbconvert_exporter": "python",
   "pygments_lexer": "ipython3",
   "version": "3.6.2"
  }
 },
 "nbformat": 4,
 "nbformat_minor": 2
}
