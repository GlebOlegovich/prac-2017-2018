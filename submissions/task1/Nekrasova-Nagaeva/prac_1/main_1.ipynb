{
 "cells": [
  {
   "cell_type": "code",
   "execution_count": 9,
   "metadata": {},
   "outputs": [
    {
     "name": "stdout",
     "output_type": "stream",
     "text": [
      "[[  4.   0.   6.   2.   2.   1.]\n",
      " [  3.   8.   4.  10.   4.   4.]\n",
      " [  1.   2.   6.   5.   0.   0.]\n",
      " [  6.   6.   4.   4.  10.   3.]\n",
      " [ 10.   4.   6.   4.   0.   9.]\n",
      " [ 10.   7.   0.   7.   9.   8.]]\n",
      "Выигрыш равен:  4.87096774194\n",
      "Стратегия первого игрока:  [ 0.          0.12903226  0.09677419  0.43548387  0.33870968  0.        ]\n",
      "Стратегия второго игрока:  [ 0.          0.          0.69086022  0.14516129  0.14784946  0.01612903]\n"
     ]
    },
    {
     "data": {
      "image/png": "[encoded data removed]",
      "text/plain": [
       "<matplotlib.figure.Figure at 0x7f0eeef1f5c0>"
      ]
     },
     "metadata": {},
     "output_type": "display_data"
    },
    {
     "data": {
      "image/png": "[encoded data removed]",
      "text/plain": [
       "<matplotlib.figure.Figure at 0x7f0eeee4fef0>"
      ]
     },
     "metadata": {},
     "output_type": "display_data"
    }
   ],
   "source": [
    "import numpy as np\n",
    "import matplotlib.pyplot as plt\n",
    "from scipy.optimize import linprog\n",
    "\n",
    "def nash_equilibrium(a):\n",
    "  M = 0\n",
    "  if a.min() <= 0:                            # Сделаем все элементы матрицы неотрицательными,\n",
    "    M = abs(a.min())                          # так как это не влияет на процесс поиска решения\n",
    "    a += M\n",
    "  m = a.shape[0]                              # размеры матрицы (m*n)\n",
    "  n = a.shape[1]\n",
    "\n",
    "  c = np.ones((m))                            # необходимо минимизировать F = x1+...+xm = 1/V\n",
    "  A_ub = -a.T                                 # сводим к неравенствам ≤ домножением матрицы и\n",
    "  b_ub = -np.ones((n))                        # правой части на (-1)\n",
    "                                    \n",
    "  res = linprog(c, A_ub, b_ub)                # с помощью функции linprog полчаем\n",
    "                                              # решение задачи:\n",
    "                                              #   𝑐𝑇*𝑥 → 𝑚𝑖𝑛\n",
    "                                              #   𝐴_𝑢𝑏*𝑥 ≤ 𝑏_𝑢𝑏 \n",
    "                                              #   𝐴_𝑒𝑞*𝑥 = 𝑏_𝑒𝑞 \n",
    "                                              #   𝑥 ≥ 0\n",
    "  V = 1/res.fun - M   \n",
    "  first_str = 1/res.fun * res.x                       \n",
    "                                              \n",
    "  c = -np.ones((n))                           # необходимо максимизировать F = y1+...yn = 1/V\n",
    "  A_ub = a                                    # сведем задачу к задаче минимизации \n",
    "  b_ub = np.ones((m)) \n",
    "  res = linprog(c, A_ub, b_ub)\n",
    "  second_str = (-1/res.fun) * res.x\n",
    "  return V, first_str, second_str\n",
    "\n",
    "def graph(P,Q):\n",
    "    fig1 = plt.figure()                \n",
    "    plt.axis([0, len(P) + 1, 0, 1.1])  # деления на осях в заданных промежутках\n",
    "    for i in range(1, len(P) + 1, 1):\n",
    "        plt.plot([i, i], [0.0, P[i-1]], 'b', lw = 0.6, alpha = 0.4)\n",
    "        plt.scatter(i, P[i-1], s = 20, color = 'b')\n",
    "    plt.xlabel('Стратегии')\n",
    "    plt.ylabel('Вероятности')\n",
    "    plt.minorticks_on()                   # мелкие деления на осях\n",
    "    \n",
    "    plt.text(len(P) + 1.5, 0.5, spec(P), fontsize = 18, horizontalalignment = 'left')\n",
    "    plt.title('Спектр первого игрока')\n",
    "    plt.show()\n",
    "     \n",
    "    \n",
    "    fig2 = plt.figure()\n",
    "    plt.axis([0, len(Q) + 1, 0, 1.1])\n",
    "    for j in range(1, len(Q) + 1, 1):\n",
    "        plt.plot([j,j], [0, Q[j-1]], 'b', lw = 0.6, alpha = 0.4)\n",
    "        plt.scatter(j, Q[j-1], s = 20, color = 'b')\n",
    "    plt.xlabel('Стратегии')\n",
    "    plt.ylabel('Вероятности')\n",
    "    plt.minorticks_on()\n",
    "\n",
    "    plt.text(len(Q) + 1.5, 0.5, spec(Q), fontsize = 18, horizontalalignment = 'left')\n",
    "    plt.title('Спектр второго игрока')\n",
    "    plt.show()\n",
    "\n",
    "def spec(P):\n",
    "    t = 0\n",
    "    for i in range(len(P)):\n",
    "        if P[i] > 0 :\n",
    "         t += 1\n",
    "    if t == len(P):\n",
    "        return \"Спектр полон\"\n",
    "    elif t == 1 :\n",
    "        return \"Спектр состоит из одной точки\"\n",
    "    else :\n",
    "        return \"Спектр неполон\"\n",
    "    \n",
    "def main(fin, fout):\n",
    "    H = np.loadtxt(fin, dtype='float64')\n",
    "    f = open(fout, 'w')\n",
    "    print(H)\n",
    "    sol = nash_equilibrium(H)\n",
    "    print (\"Выигрыш равен: \", sol[0])                \n",
    "    print (\"Стратегия первого игрока: \", sol[1])\n",
    "    print (\"Стратегия второго игрока: \", sol[2])\n",
    "    f.write(\"%f\\n\" %sol[0])\n",
    "    for c in sol[1]:\n",
    "      f.write(\"%f \" %c)\n",
    "    f.write(\"\\n\")\n",
    "    for c in sol[2]:\n",
    "      f.write(\"%f \" %c)\n",
    "    graph(sol[1], sol[2])\n",
    "    \n",
    "main('in/2.in', 'out/2.out')"
   ]
  },
  {
   "cell_type": "code",
   "execution_count": null,
   "metadata": {
    "collapsed": true
   },
   "outputs": [],
   "source": []
  }
 ],
 "metadata": {
  "kernelspec": {
   "display_name": "Python 3",
   "language": "python",
   "name": "python3"
  },
  "language_info": {
   "codemirror_mode": {
    "name": "ipython",
    "version": 3
   },
   "file_extension": ".py",
   "mimetype": "text/x-python",
   "name": "python",
   "nbconvert_exporter": "python",
   "pygments_lexer": "ipython3",
   "version": "3.5.2+"
  }
 },
 "nbformat": 4,
 "nbformat_minor": 2
}
